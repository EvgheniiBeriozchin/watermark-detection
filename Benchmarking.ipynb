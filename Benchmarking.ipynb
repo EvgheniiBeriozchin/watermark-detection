{
 "cells": [
  {
   "cell_type": "markdown",
   "source": [
    "# Test trained model\n",
    "This script uses functions from the CycleGAN repository https://github.com/junyanz/pytorch-CycleGAN-and-pix2pix."
   ],
   "metadata": {
    "collapsed": false
   }
  },
  {
   "cell_type": "markdown",
   "source": [
    "## Load watermark"
   ],
   "metadata": {
    "collapsed": false
   }
  },
  {
   "cell_type": "markdown",
   "source": [
    "## Preprocessing step"
   ],
   "metadata": {
    "collapsed": false
   }
  },
  {
   "cell_type": "code",
   "execution_count": null,
   "outputs": [],
   "source": [
    "from preprocess_watermarks import preprocess_watermark\n",
    "\n",
    "processed_image = preprocess_watermark(image)"
   ],
   "metadata": {
    "collapsed": false
   }
  },
  {
   "cell_type": "code",
   "execution_count": null,
   "outputs": [],
   "source": [
    "import argparse\n",
    "\n",
    "parser = argparse.ArgumentParser()\n",
    "parser.add_argument( \"--input_path\", type=str)\n",
    "args = parser.parse_args()\n",
    "input_path = args.input_path"
   ],
   "metadata": {
    "collapsed": false
   }
  },
  {
   "cell_type": "markdown",
   "source": [
    "## Load Pretrained Model"
   ],
   "metadata": {
    "collapsed": false
   }
  },
  {
   "cell_type": "code",
   "execution_count": 1,
   "outputs": [
    {
     "name": "stdout",
     "output_type": "stream",
     "text": [
      "Warning: wandb package cannot be found. The option \"--use_wandb\" will result in error.\r\n",
      "Warning: wandb package cannot be found. The option \"--use_wandb\" will result in error.\r\n",
      "----------------- Options ---------------\r\n",
      "             aspect_ratio: 1.0                           \r\n",
      "               batch_size: 1                             \r\n",
      "          checkpoints_dir: ./checkpoints                 \r\n",
      "                crop_size: 256                           \r\n",
      "                 dataroot: ../Data_Labeling/Data/processed/testA\t[default: None]\r\n",
      "             dataset_mode: single                        \r\n",
      "                direction: AtoB                          \r\n",
      "          display_winsize: 256                           \r\n",
      "                    epoch: latest                        \r\n",
      "                     eval: False                         \r\n",
      "                  gpu_ids: 0                             \r\n",
      "                init_gain: 0.02                          \r\n",
      "                init_type: normal                        \r\n",
      "                 input_nc: 3                             \r\n",
      "                  isTrain: False                         \t[default: None]\r\n",
      "                load_iter: 0                             \t[default: 0]\r\n",
      "                load_size: 256                           \r\n",
      "         max_dataset_size: inf                           \r\n",
      "                    model: test                          \r\n",
      "             model_suffix:                               \r\n",
      "               n_layers_D: 3                             \r\n",
      "                     name: watermark2sketch_pretrained   \t[default: experiment_name]\r\n",
      "                      ndf: 64                            \r\n",
      "                     netD: basic                         \r\n",
      "                     netG: resnet_9blocks                \r\n",
      "                      ngf: 64                            \r\n",
      "               no_dropout: True                          \t[default: False]\r\n",
      "                  no_flip: False                         \r\n",
      "                     norm: instance                      \r\n",
      "                 num_test: 50                            \r\n",
      "              num_threads: 4                             \r\n",
      "                output_nc: 3                             \r\n",
      "                    phase: test                          \r\n",
      "               preprocess: resize_and_crop               \r\n",
      "              results_dir: ./results/                    \r\n",
      "           serial_batches: False                         \r\n",
      "                   suffix:                               \r\n",
      "                use_wandb: False                         \r\n",
      "                  verbose: False                         \r\n",
      "       wandb_project_name: CycleGAN-and-pix2pix          \r\n",
      "----------------- End -------------------\r\n",
      "Traceback (most recent call last):\r\n",
      "  File \"/Users/pauli/Documents/Studium/Master/4_Semester/TUM_DI_Lab/watermark-detection/../pytorch-CycleGAN-and-pix2pix-master/test.py\", line 43, in <module>\r\n",
      "    opt = TestOptions().parse()  # get test options\r\n",
      "  File \"/Users/pauli/Documents/Studium/Master/4_Semester/TUM_DI_Lab/pytorch-CycleGAN-and-pix2pix-master/options/base_options.py\", line 136, in parse\r\n",
      "    torch.cuda.set_device(opt.gpu_ids[0])\r\n",
      "  File \"/Users/pauli/Documents/Studium/Master/4_Semester/TUM_DI_Lab/watermark-detection/lib/python3.10/site-packages/torch/cuda/__init__.py\", line 350, in set_device\r\n",
      "    torch._C._cuda_setDevice(device)\r\n",
      "AttributeError: module 'torch._C' has no attribute '_cuda_setDevice'\r\n"
     ]
    }
   ],
   "source": [
    "!python ../pytorch-CycleGAN-and-pix2pix-master/test.py --dataroot ../Data_Labeling/Data/processed/testA --name watermark2sketch_pretrained --model test --no_dropout"
   ],
   "metadata": {
    "collapsed": false
   }
  },
  {
   "cell_type": "code",
   "execution_count": null,
   "outputs": [],
   "source": [],
   "metadata": {
    "collapsed": false
   }
  }
 ],
 "metadata": {
  "kernelspec": {
   "display_name": "Python 3",
   "language": "python",
   "name": "python3"
  },
  "language_info": {
   "codemirror_mode": {
    "name": "ipython",
    "version": 2
   },
   "file_extension": ".py",
   "mimetype": "text/x-python",
   "name": "python",
   "nbconvert_exporter": "python",
   "pygments_lexer": "ipython2",
   "version": "2.7.6"
  }
 },
 "nbformat": 4,
 "nbformat_minor": 0
}
