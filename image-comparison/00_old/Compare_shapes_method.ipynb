{
  "nbformat": 4,
  "nbformat_minor": 0,
  "metadata": {
    "colab": {
      "provenance": []
    },
    "kernelspec": {
      "name": "python3",
      "display_name": "Python 3"
    },
    "language_info": {
      "name": "python"
    }
  },
  "cells": [
    {
      "cell_type": "code",
      "source": [
        "Connect to google drive"
      ],
      "metadata": {
        "id": "EsXm2TI-i-NI"
      },
      "execution_count": null,
      "outputs": []
    },
    {
      "cell_type": "code",
      "source": [
        "from google.colab import drive\n",
        "drive.mount('/content/drive')"
      ],
      "metadata": {
        "colab": {
          "base_uri": "https://localhost:8080/"
        },
        "id": "rZOKZBa-hltl",
        "outputId": "28b42317-2efc-4fd7-b63b-09458a10d996"
      },
      "execution_count": null,
      "outputs": [
        {
          "output_type": "stream",
          "name": "stdout",
          "text": [
            "Drive already mounted at /content/drive; to attempt to forcibly remount, call drive.mount(\"/content/drive\", force_remount=True).\n"
          ]
        }
      ]
    },
    {
      "cell_type": "code",
      "source": [
        "Import packages"
      ],
      "metadata": {
        "id": "YWKNRDncjAOD"
      },
      "execution_count": null,
      "outputs": []
    },
    {
      "cell_type": "code",
      "execution_count": null,
      "metadata": {
        "id": "lRY40lUHg65h"
      },
      "outputs": [],
      "source": [
        "import glob\n",
        "import cv2\n",
        "import numpy as np\n",
        "import matplotlib.pyplot as plt\n",
        "import os\n",
        "import time"
      ]
    },
    {
      "cell_type": "markdown",
      "source": [
        "Calculates the contours for all images in the database\n",
        "\n",
        "\n"
      ],
      "metadata": {
        "id": "jDu32_u0jGNc"
      }
    },
    {
      "cell_type": "code",
      "source": [
        "def pre_calculate_contur(folder_path):\n",
        "    \"\"\"Compare contours and return the matching values\"\"\"\n",
        "    db = load_comparison_watermarks(folder_path)\n",
        "\n",
        "    db_contours=[]\n",
        "\n",
        "\n",
        "    for image in db:\n",
        "        input_contours = get_contour(image)\n",
        "        sorted_input = sorted(input_contours, key=cv2.contourArea, reverse=True)\n",
        "        # extract the second largest contour which is the shape only\n",
        "        input_contours = sorted_input[1]\n",
        "        db_contours.append([input_contours, image])\n",
        "\n",
        "    return db_contours"
      ],
      "metadata": {
        "id": "6voq-_7-g9wA"
      },
      "execution_count": null,
      "outputs": []
    },
    {
      "cell_type": "markdown",
      "source": [
        "Load target image"
      ],
      "metadata": {
        "id": "JQx-V4MCjO4G"
      }
    },
    {
      "cell_type": "code",
      "source": [
        "def load_target_image(image_path):\n",
        "    \"\"\"Read target image and transform to binarized negative of sketch\"\"\"\n",
        "    img = cv2.imread(image_path)\n",
        "    #img = cv2.cvtColor(img, cv2.COLOR_BGR2GRAY)\n",
        "    #(thresh, img_bin) = cv2.threshold(img, 0, 255, cv2.THRESH_BINARY)\n",
        "    #img_bin_inv = cv2.bitwise_not(img_bin)\n",
        "    print(len(img))\n",
        "\n",
        "    return img"
      ],
      "metadata": {
        "id": "CZo7iVBHhBk2"
      },
      "execution_count": null,
      "outputs": []
    },
    {
      "cell_type": "markdown",
      "source": [
        "Load folder with database"
      ],
      "metadata": {
        "id": "eCwX5L05jRlf"
      }
    },
    {
      "cell_type": "code",
      "source": [
        "def load_comparison_watermarks(folder_path):\n",
        "    \"\"\"Read comparison images and transform to binarized negative of sketch\"\"\"\n",
        "    images = [cv2.imread(file) for file in glob.glob(folder_path + '/*.png')]\n",
        "    #images = [cv2.cvtColor(img, cv2.COLOR_BGR2GRAY) for img in images]\n",
        "    return images"
      ],
      "metadata": {
        "id": "mpK1NW_0hD6A"
      },
      "execution_count": null,
      "outputs": []
    },
    {
      "cell_type": "markdown",
      "source": [
        "Show image"
      ],
      "metadata": {
        "id": "NDPu9xISjTZ6"
      }
    },
    {
      "cell_type": "code",
      "source": [
        "def im_show(image):\n",
        "    image = cv2.cvtColor(image, cv2.COLOR_BGR2RGB)\n",
        "    plt.axis('off')\n",
        "    plt.imshow(image)\n",
        "    plt.title('Target Image')\n",
        "    plt.show()"
      ],
      "metadata": {
        "id": "m_P9oYuUhElg"
      },
      "execution_count": null,
      "outputs": []
    },
    {
      "cell_type": "markdown",
      "source": [
        "Get contour from image"
      ],
      "metadata": {
        "id": "sdVtUwNxjVGz"
      }
    },
    {
      "cell_type": "code",
      "source": [
        "def get_contour(image, plot_contour = False):\n",
        "    img = cv2.cvtColor(image, cv2.COLOR_BGR2GRAY)\n",
        "    (thresh, img_bin) = cv2.threshold(img, 0, 255, cv2.THRESH_BINARY)\n",
        "    image = cv2.bitwise_not(img_bin)\n",
        "\n",
        "    ret, thresh1 = cv2.threshold(image, 127, 255, 0)\n",
        "    contours, hierarchy = cv2.findContours(thresh1, cv2.RETR_CCOMP, cv2.CHAIN_APPROX_SIMPLE)\n",
        "\n",
        "    if plot_contour == True:\n",
        "        cv2.drawContours(image, contours, -1, (0, 255, 0), 3)\n",
        "        plt.axis('off')\n",
        "        plt.imshow(image)\n",
        "        plt.title('Identifying the Contours')\n",
        "        plt.show()\n",
        "\n",
        "    return contours"
      ],
      "metadata": {
        "id": "Sr5HLtI2hGnw"
      },
      "execution_count": null,
      "outputs": []
    },
    {
      "cell_type": "markdown",
      "source": [
        "Compare image to DB"
      ],
      "metadata": {
        "id": "RX7OslHpjYZ-"
      }
    },
    {
      "cell_type": "code",
      "source": [
        "def compare_image_to_db(img_path, db_contours):\n",
        "    \"\"\"Compare contours and return the matching values\"\"\"\n",
        "    target = load_target_image(img_path)\n",
        "    target_contour = get_contour(target)\n",
        "    sorted_contours = sorted(target_contour, key=cv2.contourArea, reverse=True)\n",
        "    #extract the second largest contour which is the shape only\n",
        "    target_contour = sorted_contours[1]\n",
        "    db = db_contours\n",
        "\n",
        "    similar_images = 0\n",
        "\n",
        "    similarity=[]\n",
        "\n",
        "    for input_contours in db:\n",
        "        match = cv2.matchShapes(target_contour, input_contours,3,0.0)\n",
        "        similarity.append([match, input_contours])\n",
        "        #print(match)\n",
        "\n",
        "    for simil in similarity:\n",
        "        if simil[0] < 0.15:\n",
        "            print('simil:',simil[0])\n",
        "            cv2.drawContours(target, [target_contour], -1, (0, 255, 0), 3)\n",
        "            #image = cv2.cvtColor(simil[1], cv2.COLOR_BGR2RGB)\n",
        "            plt.axis('off')\n",
        "            plt.imshow(simil[1])\n",
        "            plt.title('Best matching image')\n",
        "            plt.show()\n",
        "            #im_show(simil[1])\n",
        "\n",
        "            similar_images += 1\n",
        "\n",
        "    print(\"Number of similar images:\", similar_images)\n",
        "\n",
        "    return similarity"
      ],
      "metadata": {
        "id": "jlZdM__AhI8r"
      },
      "execution_count": null,
      "outputs": []
    },
    {
      "cell_type": "markdown",
      "source": [
        "Set paths and folders"
      ],
      "metadata": {
        "id": "bnL1GjTai2Gp"
      }
    },
    {
      "cell_type": "code",
      "source": [
        "path = \"/content/briquet_1.png\"\n",
        "folder = \"/content/drive/MyDrive/briquet_test\""
      ],
      "metadata": {
        "id": "PdY6UnMQhNpM"
      },
      "execution_count": null,
      "outputs": []
    },
    {
      "cell_type": "markdown",
      "source": [
        "Load target image and comparison db"
      ],
      "metadata": {
        "id": "eheBiO6ujvlk"
      }
    },
    {
      "cell_type": "code",
      "source": [
        "img = load_target_image(image_path=path)\n",
        "db = load_comparison_watermarks(folder_path = folder)"
      ],
      "metadata": {
        "colab": {
          "base_uri": "https://localhost:8080/"
        },
        "id": "T6t2JFfXiwB2",
        "outputId": "42df65e6-a95d-46e7-f813-7ca913a47c24"
      },
      "execution_count": null,
      "outputs": [
        {
          "output_type": "stream",
          "name": "stdout",
          "text": [
            "256\n"
          ]
        }
      ]
    },
    {
      "cell_type": "markdown",
      "source": [
        "Show target image"
      ],
      "metadata": {
        "id": "u0vffdauj0Os"
      }
    },
    {
      "cell_type": "code",
      "source": [
        "im_show(img)"
      ],
      "metadata": {
        "colab": {
          "base_uri": "https://localhost:8080/",
          "height": 428
        },
        "id": "0r88ibbkj2yP",
        "outputId": "a2c324c9-50d7-40aa-df49-a194a953641b"
      },
      "execution_count": null,
      "outputs": [
        {
          "output_type": "display_data",
          "data": {
            "text/plain": [
              "<Figure size 640x480 with 1 Axes>"
            ],
            "image/png": "[encoded data removed]"
          },
          "metadata": {}
        }
      ]
    },
    {
      "cell_type": "markdown",
      "source": [
        "Calculate database of conturs for folder"
      ],
      "metadata": {
        "id": "ddLsnFJjj4nb"
      }
    },
    {
      "cell_type": "code",
      "source": [
        "t0 = time.time()\n",
        "db_res = pre_calculate_contur(folder)\n",
        "t1 = time.time()\n",
        "total = t1-t0\n",
        "print(total)"
      ],
      "metadata": {
        "colab": {
          "base_uri": "https://localhost:8080/"
        },
        "id": "pEqxCq9Oj_Bn",
        "outputId": "666ad951-8b8d-4395-cf24-ceee310260d0"
      },
      "execution_count": null,
      "outputs": [
        {
          "output_type": "stream",
          "name": "stdout",
          "text": [
            "0.3015248775482178\n"
          ]
        }
      ]
    },
    {
      "cell_type": "markdown",
      "source": [
        "Show example of image in contourdb"
      ],
      "metadata": {
        "id": "YSiWQ7SXkEPh"
      }
    },
    {
      "cell_type": "code",
      "source": [
        "#print(db_res)"
      ],
      "metadata": {
        "id": "KEN-oaXrkHJb"
      },
      "execution_count": null,
      "outputs": []
    },
    {
      "cell_type": "markdown",
      "source": [
        "Compare conturs"
      ],
      "metadata": {
        "id": "BShvYmE7kauR"
      }
    },
    {
      "cell_type": "code",
      "source": [
        "t0 = time.time()\n",
        "compare_image_to_db(path,db_res)\n",
        "t1 = time.time()\n",
        "total = t1-t0\n",
        "print(total)"
      ],
      "metadata": {
        "colab": {
          "base_uri": "https://localhost:8080/",
          "height": 437
        },
        "id": "UNdy-E_akdaV",
        "outputId": "0c438a8a-6864-4fdd-c85f-7b575ab1eb7a"
      },
      "execution_count": null,
      "outputs": [
        {
          "output_type": "stream",
          "name": "stdout",
          "text": [
            "256\n"
          ]
        },
        {
          "output_type": "error",
          "ename": "error",
          "evalue": "ignored",
          "traceback": [
            "\u001b[0;31m---------------------------------------------------------------------------\u001b[0m",
            "\u001b[0;31merror\u001b[0m                                     Traceback (most recent call last)",
            "\u001b[0;32m<ipython-input-32-ab2f292f9796>\u001b[0m in \u001b[0;36m<cell line: 2>\u001b[0;34m()\u001b[0m\n\u001b[1;32m      1\u001b[0m \u001b[0mt0\u001b[0m \u001b[0;34m=\u001b[0m \u001b[0mtime\u001b[0m\u001b[0;34m.\u001b[0m\u001b[0mtime\u001b[0m\u001b[0;34m(\u001b[0m\u001b[0;34m)\u001b[0m\u001b[0;34m\u001b[0m\u001b[0;34m\u001b[0m\u001b[0m\n\u001b[0;32m----> 2\u001b[0;31m \u001b[0mcompare_image_to_db\u001b[0m\u001b[0;34m(\u001b[0m\u001b[0mpath\u001b[0m\u001b[0;34m,\u001b[0m\u001b[0mdb_res\u001b[0m\u001b[0;34m)\u001b[0m\u001b[0;34m\u001b[0m\u001b[0;34m\u001b[0m\u001b[0m\n\u001b[0m\u001b[1;32m      3\u001b[0m \u001b[0mt1\u001b[0m \u001b[0;34m=\u001b[0m \u001b[0mtime\u001b[0m\u001b[0;34m.\u001b[0m\u001b[0mtime\u001b[0m\u001b[0;34m(\u001b[0m\u001b[0;34m)\u001b[0m\u001b[0;34m\u001b[0m\u001b[0;34m\u001b[0m\u001b[0m\n\u001b[1;32m      4\u001b[0m \u001b[0mtotal\u001b[0m \u001b[0;34m=\u001b[0m \u001b[0mt1\u001b[0m\u001b[0;34m-\u001b[0m\u001b[0mt0\u001b[0m\u001b[0;34m\u001b[0m\u001b[0;34m\u001b[0m\u001b[0m\n\u001b[1;32m      5\u001b[0m \u001b[0mprint\u001b[0m\u001b[0;34m(\u001b[0m\u001b[0mtotal\u001b[0m\u001b[0;34m)\u001b[0m\u001b[0;34m\u001b[0m\u001b[0;34m\u001b[0m\u001b[0m\n",
            "\u001b[0;32m<ipython-input-31-890768388b75>\u001b[0m in \u001b[0;36mcompare_image_to_db\u001b[0;34m(img_path, db_contours)\u001b[0m\n\u001b[1;32m     13\u001b[0m \u001b[0;34m\u001b[0m\u001b[0m\n\u001b[1;32m     14\u001b[0m     \u001b[0;32mfor\u001b[0m \u001b[0minput_contours\u001b[0m \u001b[0;32min\u001b[0m \u001b[0mdb\u001b[0m\u001b[0;34m:\u001b[0m\u001b[0;34m\u001b[0m\u001b[0;34m\u001b[0m\u001b[0m\n\u001b[0;32m---> 15\u001b[0;31m         \u001b[0mmatch\u001b[0m \u001b[0;34m=\u001b[0m \u001b[0mcv2\u001b[0m\u001b[0;34m.\u001b[0m\u001b[0mmatchShapes\u001b[0m\u001b[0;34m(\u001b[0m\u001b[0mtarget_contour\u001b[0m\u001b[0;34m,\u001b[0m \u001b[0minput_contours\u001b[0m\u001b[0;34m,\u001b[0m\u001b[0;36m3\u001b[0m\u001b[0;34m,\u001b[0m\u001b[0;36m0.0\u001b[0m\u001b[0;34m)\u001b[0m\u001b[0;34m\u001b[0m\u001b[0;34m\u001b[0m\u001b[0m\n\u001b[0m\u001b[1;32m     16\u001b[0m         \u001b[0msimilarity\u001b[0m\u001b[0;34m.\u001b[0m\u001b[0mappend\u001b[0m\u001b[0;34m(\u001b[0m\u001b[0;34m[\u001b[0m\u001b[0mmatch\u001b[0m\u001b[0;34m,\u001b[0m \u001b[0minput_contours\u001b[0m\u001b[0;34m]\u001b[0m\u001b[0;34m)\u001b[0m\u001b[0;34m\u001b[0m\u001b[0;34m\u001b[0m\u001b[0m\n\u001b[1;32m     17\u001b[0m         \u001b[0;31m#print(match)\u001b[0m\u001b[0;34m\u001b[0m\u001b[0;34m\u001b[0m\u001b[0m\n",
            "\u001b[0;31merror\u001b[0m: OpenCV(4.7.0) :-1: error: (-5:Bad argument) in function 'matchShapes'\n> Overload resolution failed:\n>  - contour2 is not a numpy array, neither a scalar\n>  - Expected Ptr<cv::UMat> for argument 'contour2'\n"
          ]
        }
      ]
    }
  ]
}