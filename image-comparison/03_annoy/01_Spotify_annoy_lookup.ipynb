{
  "nbformat": 4,
  "nbformat_minor": 0,
  "metadata": {
    "colab": {
      "provenance": []
    },
    "kernelspec": {
      "name": "python3",
      "display_name": "Python 3"
    },
    "language_info": {
      "name": "python"
    }
  },
  "cells": [
    {
      "cell_type": "code",
      "execution_count": null,
      "metadata": {
        "colab": {
          "base_uri": "https://localhost:8080/"
        },
        "id": "FcX35yUl0CEq",
        "outputId": "8125af44-085c-46da-b7c5-84495ceabeb9"
      },
      "outputs": [
        {
          "output_type": "stream",
          "name": "stdout",
          "text": [
            "Looking in indexes: https://pypi.org/simple, https://us-python.pkg.dev/colab-wheels/public/simple/\n",
            "Collecting annoy\n",
            "  Downloading annoy-1.17.3.tar.gz (647 kB)\n",
            "\u001b[2K     \u001b[90m━━━━━━━━━━━━━━━━━━━━━━━━━━━━━━━━━━━━━━\u001b[0m \u001b[32m647.5/647.5 kB\u001b[0m \u001b[31m20.0 MB/s\u001b[0m eta \u001b[36m0:00:00\u001b[0m\n",
            "\u001b[?25h  Preparing metadata (setup.py) ... \u001b[?25l\u001b[?25hdone\n",
            "Building wheels for collected packages: annoy\n",
            "  Building wheel for annoy (setup.py) ... \u001b[?25l\u001b[?25hdone\n",
            "  Created wheel for annoy: filename=annoy-1.17.3-cp310-cp310-linux_x86_64.whl size=582697 sha256=ddbcf5773658d0e807332d61762022629f4b8a69ef2f26fe459202841e302f24\n",
            "  Stored in directory: /root/.cache/pip/wheels/64/8a/da/f714bcf46c5efdcfcac0559e63370c21abe961c48e3992465a\n",
            "Successfully built annoy\n",
            "Installing collected packages: annoy\n",
            "Successfully installed annoy-1.17.3\n"
          ]
        }
      ],
      "source": [
        "!pip install annoy"
      ]
    },
    {
      "cell_type": "code",
      "source": [
        "from google.colab import drive\n",
        "drive.mount('/content/drive')"
      ],
      "metadata": {
        "colab": {
          "base_uri": "https://localhost:8080/"
        },
        "id": "ZxEGGcZA3OLT",
        "outputId": "a617d509-937e-4e1f-8e3d-2954f5e95a72"
      },
      "execution_count": null,
      "outputs": [
        {
          "output_type": "stream",
          "name": "stdout",
          "text": [
            "Mounted at /content/drive\n"
          ]
        }
      ]
    },
    {
      "cell_type": "code",
      "source": [
        "import torch\n",
        "from torchvision import models, transforms\n",
        "import torch.nn as nn\n",
        "import numpy as np\n",
        "from annoy import AnnoyIndex\n",
        "from PIL import Image, ImageDraw\n",
        "\n",
        "def Get_nns_spotify_annoy(image,annoy_index, model):\n",
        "\n",
        "    transform = transforms.Compose([\n",
        "        transforms.Resize((224, 224)),\n",
        "        transforms.ToTensor()\n",
        "        ])\n",
        "\n",
        "    input_tensor = transform(image).unsqueeze(0)\n",
        "    output_tensor = model(input_tensor)\n",
        "    nns = annoy_index.get_nns_by_vector(output_tensor[0],1000)\n",
        "\n",
        "    return nns"
      ],
      "metadata": {
        "id": "5wpUKfRR0fbN"
      },
      "execution_count": null,
      "outputs": []
    },
    {
      "cell_type": "code",
      "source": [
        "image_path = \"/content/drive/MyDrive/TestImages/test_images_101.png\"\n",
        "image_ending = 'test_images_101.png'\n",
        "annoy_index_path = '/content/watermark_index_test.ann'"
      ],
      "metadata": {
        "id": "JdE65OlU3jTY"
      },
      "execution_count": null,
      "outputs": []
    },
    {
      "cell_type": "code",
      "source": [
        "from PIL import Image, ImageDraw\n",
        "import os\n",
        "\n",
        "image = Image.open(image_path).convert('RGB')\n",
        "image"
      ],
      "metadata": {
        "colab": {
          "base_uri": "https://localhost:8080/",
          "height": 273
        },
        "id": "t29ROa8o3J9i",
        "outputId": "4a728334-18d5-48a9-e2b4-5a9655bfe14c"
      },
      "execution_count": null,
      "outputs": [
        {
          "output_type": "execute_result",
          "data": {
            "text/plain": [
              "<PIL.Image.Image image mode=RGB size=256x256 at 0x7F9709D83100>"
            ],
            "image/png": "[encoded data removed]"
          },
          "metadata": {},
          "execution_count": 49
        }
      ]
    },
    {
      "cell_type": "code",
      "source": [
        "import os\n",
        "\n",
        "images_folder = \"/content/drive/MyDrive/TestImages\"\n",
        "images = os.listdir(images_folder)"
      ],
      "metadata": {
        "id": "SiNuZi7a5EOf"
      },
      "execution_count": null,
      "outputs": []
    },
    {
      "cell_type": "code",
      "source": [
        "images.index(image_ending)"
      ],
      "metadata": {
        "colab": {
          "base_uri": "https://localhost:8080/"
        },
        "id": "rN9XSfqa7PH-",
        "outputId": "88c12690-28d2-4c25-de86-a4e9944cb2ee"
      },
      "execution_count": null,
      "outputs": [
        {
          "output_type": "execute_result",
          "data": {
            "text/plain": [
              "99"
            ]
          },
          "metadata": {},
          "execution_count": 51
        }
      ]
    },
    {
      "cell_type": "code",
      "source": [
        "annoy_index = AnnoyIndex(512, 'angular')\n",
        "annoy_index.load(annoy_index_path)\n",
        "\n",
        "weights = models.ResNet18_Weights.IMAGENET1K_V1\n",
        "model_annoy = models.resnet18(weights=weights)\n",
        "model_annoy.fc = nn.Identity()\n",
        "model_annoy.eval()\n",
        "\n",
        "Get_nns_spotify_annoy(image, annoy_index, model_annoy)[0]\n",
        "\n",
        "nns_annoy = Get_nns_spotify_annoy(image, annoy_index, model_annoy)\n",
        "nns_annoy"
      ],
      "metadata": {
        "id": "G5Ffgayu99TB"
      },
      "execution_count": null,
      "outputs": []
    }
  ]
}