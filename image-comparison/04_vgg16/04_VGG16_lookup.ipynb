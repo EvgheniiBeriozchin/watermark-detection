{
  "nbformat": 4,
  "nbformat_minor": 0,
  "metadata": {
    "colab": {
      "provenance": []
    },
    "kernelspec": {
      "name": "python3",
      "display_name": "Python 3"
    },
    "language_info": {
      "name": "python"
    }
  },
  "cells": [
    {
      "cell_type": "code",
      "execution_count": null,
      "metadata": {
        "colab": {
          "base_uri": "https://localhost:8080/"
        },
        "id": "7AIzK_r3HMaS",
        "outputId": "aa040106-14a8-454d-a017-3789adf7ac7b"
      },
      "outputs": [
        {
          "output_type": "stream",
          "name": "stdout",
          "text": [
            "Mounted at /content/drive\n"
          ]
        }
      ],
      "source": [
        "from google.colab import drive\n",
        "drive.mount('/content/drive')"
      ]
    },
    {
      "cell_type": "code",
      "source": [
        "from sklearn.decomposition import PCA\n",
        "from scipy.spatial import distance\n",
        "import numpy as np\n",
        "\n",
        "def Get_nns_VGG16(x,pca_features):\n",
        "    new_features = feat_extractor.predict(x)\n",
        "    new_pca_features = pca.transform(new_features)[0]\n",
        "    distances = [ distance.cosine(new_pca_features, feat) for feat in pca_features ]\n",
        "    nns = sorted(range(len(distances)), key=lambda k: distances[k])\n",
        "\n",
        "    return nns"
      ],
      "metadata": {
        "id": "E5xfUYSHH9UB"
      },
      "execution_count": null,
      "outputs": []
    },
    {
      "cell_type": "code",
      "source": [
        "folder_path = \"/content/drive/MyDrive/TestImages\"\n",
        "image_name = 'test_images_101.png'"
      ],
      "metadata": {
        "id": "3hSpUadfK6kS"
      },
      "execution_count": null,
      "outputs": []
    },
    {
      "cell_type": "code",
      "source": [
        "# Load model\n",
        "model = keras.applications.VGG16(weights='imagenet', include_top=True)\n",
        "feat_extractor = Model(inputs=model.input, outputs=model.get_layer(\"fc2\").output)"
      ],
      "metadata": {
        "colab": {
          "base_uri": "https://localhost:8080/"
        },
        "id": "IXBRgY_rLSkw",
        "outputId": "15722c97-ecb7-4228-a15f-a8236e5548e1"
      },
      "execution_count": null,
      "outputs": [
        {
          "output_type": "stream",
          "name": "stdout",
          "text": [
            "Downloading data from https://storage.googleapis.com/tensorflow/keras-applications/vgg16/vgg16_weights_tf_dim_ordering_tf_kernels.h5\n",
            "553467096/553467096 [==============================] - 8s 0us/step\n"
          ]
        }
      ]
    },
    {
      "cell_type": "code",
      "source": [
        "import numpy as np\n",
        "import matplotlib.pyplot as plt\n",
        "\n",
        "def load_image(path):\n",
        "    img = image.load_img(path, target_size=model.input_shape[1:3])\n",
        "    x = image.img_to_array(img)\n",
        "    x = np.expand_dims(x, axis=0)\n",
        "    x = preprocess_input(x)\n",
        "    return img, x"
      ],
      "metadata": {
        "id": "1YlBw3VkLads"
      },
      "execution_count": null,
      "outputs": []
    },
    {
      "cell_type": "code",
      "source": [
        "import os\n",
        "import keras\n",
        "import keras.utils as image\n",
        "from keras.applications.imagenet_utils import decode_predictions, preprocess_input\n",
        "from keras.models import Model\n",
        "import cv2 as cv\n",
        "from PIL import Image, ImageDraw\n",
        "from scipy.stats import bernoulli\n",
        "from scipy.spatial import distance\n",
        "\n",
        "\n",
        "image_path =  os.path.join(folder_path, image_name)\n",
        "new_image, x = load_image(image_path)\n",
        "new_image"
      ],
      "metadata": {
        "colab": {
          "base_uri": "https://localhost:8080/",
          "height": 241
        },
        "id": "0SwzuElcJ5EF",
        "outputId": "9fd8783b-ccea-4f7d-df29-9e02b6769555"
      },
      "execution_count": null,
      "outputs": [
        {
          "output_type": "execute_result",
          "data": {
            "text/plain": [
              "<PIL.Image.Image image mode=RGB size=224x224 at 0x7F613FBD3940>"
            ],
            "image/png": "[encoded data removed]"
          },
          "metadata": {},
          "execution_count": 18
        }
      ]
    },
    {
      "cell_type": "code",
      "source": [
        "import pickle\n",
        "\n",
        "# Load PCA features\n",
        "images, pca_features, pca = pickle.load(open('features_test.p', 'rb'))\n",
        "pca_features"
      ],
      "metadata": {
        "colab": {
          "base_uri": "https://localhost:8080/"
        },
        "id": "hDEBXvxvL49A",
        "outputId": "28158b46-d5db-4f63-e95b-b2ba211120bf"
      },
      "execution_count": null,
      "outputs": [
        {
          "output_type": "execute_result",
          "data": {
            "text/plain": [
              "array([[-2.4878063e+00, -2.0837997e+01, -3.1809893e+00, ...,\n",
              "        -2.9137176e-01,  1.5531048e-01, -7.6623499e-02],\n",
              "       [-1.4363817e+01, -1.6901127e+01,  1.4841069e+01, ...,\n",
              "        -3.2718286e-02, -3.1405836e-03,  3.8774318e-01],\n",
              "       [ 1.7806152e+01,  1.7225924e-01,  2.2806065e+01, ...,\n",
              "        -7.6927453e-01,  1.3635759e+00,  3.2121304e-01],\n",
              "       ...,\n",
              "       [ 7.2591519e+00,  1.5468375e+01, -2.0478216e+01, ...,\n",
              "        -9.0622947e-02, -1.2067928e-01,  5.3582191e-02],\n",
              "       [ 6.2917027e+00, -9.2762442e+00, -7.0925159e+00, ...,\n",
              "         5.6284958e-01, -1.3794410e-01, -5.1203823e-01],\n",
              "       [ 1.9594467e+01,  7.8230767e+00, -7.6554823e+00, ...,\n",
              "         4.8504406e-01, -1.9074793e-01, -1.8929608e-01]], dtype=float32)"
            ]
          },
          "metadata": {},
          "execution_count": 31
        }
      ]
    },
    {
      "cell_type": "code",
      "source": [
        "from scipy.spatial import distance\n",
        "\n",
        "\n",
        "def Get_nns_VGG16(x,pca_features):\n",
        "    new_features = feat_extractor.predict(x)\n",
        "    new_pca_features = pca.transform(new_features)[0]\n",
        "    distances = [ distance.cosine(new_pca_features, feat) for feat in pca_features ]\n",
        "    nns = sorted(range(len(distances)), key=lambda k: distances[k])\n",
        "\n",
        "    return nns"
      ],
      "metadata": {
        "id": "Q1Nac3BSN9mC"
      },
      "execution_count": null,
      "outputs": []
    },
    {
      "cell_type": "code",
      "source": [
        "nns_vgg16 = Get_nns_VGG16(x,pca_features)"
      ],
      "metadata": {
        "colab": {
          "base_uri": "https://localhost:8080/"
        },
        "id": "AoZSCw3pOF2r",
        "outputId": "6584ab19-bd55-489a-9651-381f912540f0"
      },
      "execution_count": null,
      "outputs": [
        {
          "output_type": "stream",
          "name": "stdout",
          "text": [
            "1/1 [==============================] - 1s 836ms/step\n"
          ]
        }
      ]
    },
    {
      "cell_type": "code",
      "source": [
        "a = nns_vgg16[0]\n",
        "images[a]"
      ],
      "metadata": {
        "colab": {
          "base_uri": "https://localhost:8080/",
          "height": 35
        },
        "id": "13ZsWy2MOX_G",
        "outputId": "fa2adc9b-336b-4624-c6e2-d4f67e8be6d0"
      },
      "execution_count": null,
      "outputs": [
        {
          "output_type": "execute_result",
          "data": {
            "text/plain": [
              "'/content/drive/MyDrive/TestImages/test_images_101.png'"
            ],
            "application/vnd.google.colaboratory.intrinsic+json": {
              "type": "string"
            }
          },
          "metadata": {},
          "execution_count": 48
        }
      ]
    },
    {
      "cell_type": "code",
      "source": [
        "def multiple_nns_connecter(x,y):\n",
        "  N = len(x)\n",
        "  res = np.zeros(N)\n",
        "  for i in range(N):\n",
        "    res[i] = x.index(i) + y.index(i)\n",
        "  res = res.astype(int)\n",
        "  np.where(mult == mult.min())[0]\n",
        "  return res"
      ],
      "metadata": {
        "id": "I26lGXCNPyLz"
      },
      "execution_count": null,
      "outputs": []
    },
    {
      "cell_type": "code",
      "source": [
        "mult = multiple_nns_connecter(nns_annoy,nns_vgg16)\n",
        "print(np.where(mult == mult.min())[0])"
      ],
      "metadata": {
        "colab": {
          "base_uri": "https://localhost:8080/"
        },
        "id": "ptCMpOBKQ0hn",
        "outputId": "d9b2ac13-f106-4b37-a16c-5102417d395c"
      },
      "execution_count": null,
      "outputs": [
        {
          "output_type": "stream",
          "name": "stdout",
          "text": [
            "[99]\n"
          ]
        }
      ]
    },
    {
      "cell_type": "code",
      "source": [],
      "metadata": {
        "id": "iaLZ83IgPz8k"
      },
      "execution_count": null,
      "outputs": []
    }
  ]
}